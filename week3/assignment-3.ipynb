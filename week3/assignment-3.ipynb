{
 "cells": [
  {
   "cell_type": "code",
   "execution_count": 1,
   "metadata": {},
   "outputs": [
    {
     "ename": "ModuleNotFoundError",
     "evalue": "No module named 'scipy'",
     "output_type": "error",
     "traceback": [
      "\u001b[1;31m---------------------------------------------------------------------------\u001b[0m",
      "\u001b[1;31mModuleNotFoundError\u001b[0m                       Traceback (most recent call last)",
      "\u001b[1;32m~\\AppData\\Local\\Temp/ipykernel_31248/1775810701.py\u001b[0m in \u001b[0;36m<module>\u001b[1;34m\u001b[0m\n\u001b[0;32m      1\u001b[0m \u001b[1;32mimport\u001b[0m \u001b[0mnumpy\u001b[0m \u001b[1;32mas\u001b[0m \u001b[0mnp\u001b[0m\u001b[1;33m\u001b[0m\u001b[1;33m\u001b[0m\u001b[0m\n\u001b[1;32m----> 2\u001b[1;33m \u001b[1;32mfrom\u001b[0m \u001b[0mscipy\u001b[0m\u001b[1;33m.\u001b[0m\u001b[0mspatial\u001b[0m\u001b[1;33m.\u001b[0m\u001b[0mdistance\u001b[0m \u001b[1;32mimport\u001b[0m \u001b[0mcdist\u001b[0m\u001b[1;33m\u001b[0m\u001b[1;33m\u001b[0m\u001b[0m\n\u001b[0m\u001b[0;32m      3\u001b[0m \u001b[1;32mimport\u001b[0m \u001b[0mmatplotlib\u001b[0m\u001b[1;33m.\u001b[0m\u001b[0mpyplot\u001b[0m \u001b[1;32mas\u001b[0m \u001b[0mplt\u001b[0m\u001b[1;33m\u001b[0m\u001b[1;33m\u001b[0m\u001b[0m\n\u001b[0;32m      4\u001b[0m \u001b[1;32mimport\u001b[0m \u001b[0mpandas\u001b[0m \u001b[1;32mas\u001b[0m \u001b[0mpd\u001b[0m\u001b[1;33m\u001b[0m\u001b[1;33m\u001b[0m\u001b[0m\n\u001b[0;32m      5\u001b[0m \u001b[0mk_dic\u001b[0m \u001b[1;33m=\u001b[0m \u001b[1;33m{\u001b[0m\u001b[1;33m}\u001b[0m\u001b[1;33m\u001b[0m\u001b[1;33m\u001b[0m\u001b[0m\n",
      "\u001b[1;31mModuleNotFoundError\u001b[0m: No module named 'scipy'"
     ]
    }
   ],
   "source": [
    "import numpy as np\n",
    "from scipy.spatial.distance import cdist\n",
    "import matplotlib.pyplot as plt\n",
    "import pandas as pd\n",
    "k_dic = {}"
   ]
  },
  {
   "cell_type": "markdown",
   "metadata": {},
   "source": [
    "<h2>For dataset 1</h2>"
   ]
  },
  {
   "cell_type": "code",
   "execution_count": null,
   "metadata": {},
   "outputs": [
    {
     "name": "stderr",
     "output_type": "stream",
     "text": [
      "C:\\Users\\SUMANC~1\\AppData\\Local\\Temp/ipykernel_10204/2833992991.py:16: VisibleDeprecationWarning: Creating an ndarray from ragged nested sequences (which is a list-or-tuple of lists-or-tuples-or ndarrays with different lengths or shapes) is deprecated. If you meant to do this, you must specify 'dtype=object' when creating the ndarray.\n",
      "  df1 = np.array(df1)\n"
     ]
    }
   ],
   "source": [
    "df = pd.read_csv(\"dataset1.csv\", delimiter=',')\n",
    "df = df.values\n",
    "l = []\n",
    "for e in df:\n",
    "    l.append(int(e[2][6:]))\n",
    "l = np.array(l)\n",
    "k = max(l)\n",
    "k_dic[\"1\"] = k\n",
    "df1 = []\n",
    "for j in range(k+1):\n",
    "    df1.append([])\n",
    "for i in range(len(df)):\n",
    "    df1[l[i]].append(df[i][:2])\n",
    "for j in range(k+1):\n",
    "    df1[j] = np.array(df1[j])\n",
    "df1 = np.array(df1)\n",
    "for i in range(1, k+1):\n",
    "    plt.scatter(df1[i][:, 0],df1[i][:, 1], label = \"Class \" + str(i))\n",
    "plt.legend(loc=\"upper left\")\n",
    "plt.savefig(\"original-1.png\")\n",
    "plt.close()\n"
   ]
  },
  {
   "cell_type": "markdown",
   "metadata": {},
   "source": [
    "<h2>For dataset 3</h2>"
   ]
  },
  {
   "cell_type": "code",
   "execution_count": 2,
   "metadata": {},
   "outputs": [
    {
     "ename": "NameError",
     "evalue": "name 'pd' is not defined",
     "output_type": "error",
     "traceback": [
      "\u001b[1;31m---------------------------------------------------------------------------\u001b[0m",
      "\u001b[1;31mNameError\u001b[0m                                 Traceback (most recent call last)",
      "\u001b[1;32m~\\AppData\\Local\\Temp/ipykernel_31248/2406082201.py\u001b[0m in \u001b[0;36m<module>\u001b[1;34m\u001b[0m\n\u001b[1;32m----> 1\u001b[1;33m \u001b[0mdf\u001b[0m \u001b[1;33m=\u001b[0m \u001b[0mpd\u001b[0m\u001b[1;33m.\u001b[0m\u001b[0mread_csv\u001b[0m\u001b[1;33m(\u001b[0m\u001b[1;34m\"dataset3.csv\"\u001b[0m\u001b[1;33m,\u001b[0m \u001b[0mdelimiter\u001b[0m\u001b[1;33m=\u001b[0m\u001b[1;34m','\u001b[0m\u001b[1;33m)\u001b[0m\u001b[1;33m\u001b[0m\u001b[1;33m\u001b[0m\u001b[0m\n\u001b[0m\u001b[0;32m      2\u001b[0m \u001b[0mdf\u001b[0m \u001b[1;33m=\u001b[0m \u001b[0mdf\u001b[0m\u001b[1;33m.\u001b[0m\u001b[0mvalues\u001b[0m\u001b[1;33m\u001b[0m\u001b[1;33m\u001b[0m\u001b[0m\n\u001b[0;32m      3\u001b[0m \u001b[0ml\u001b[0m \u001b[1;33m=\u001b[0m \u001b[1;33m[\u001b[0m\u001b[1;33m]\u001b[0m\u001b[1;33m\u001b[0m\u001b[1;33m\u001b[0m\u001b[0m\n\u001b[0;32m      4\u001b[0m \u001b[1;32mfor\u001b[0m \u001b[0me\u001b[0m \u001b[1;32min\u001b[0m \u001b[0mdf\u001b[0m\u001b[1;33m:\u001b[0m\u001b[1;33m\u001b[0m\u001b[1;33m\u001b[0m\u001b[0m\n\u001b[0;32m      5\u001b[0m     \u001b[1;32mif\u001b[0m\u001b[1;33m(\u001b[0m\u001b[0me\u001b[0m\u001b[1;33m[\u001b[0m\u001b[1;36m2\u001b[0m\u001b[1;33m]\u001b[0m \u001b[1;33m==\u001b[0m \u001b[1;34m\"noise\"\u001b[0m\u001b[1;33m)\u001b[0m\u001b[1;33m:\u001b[0m\u001b[1;33m\u001b[0m\u001b[1;33m\u001b[0m\u001b[0m\n",
      "\u001b[1;31mNameError\u001b[0m: name 'pd' is not defined"
     ]
    }
   ],
   "source": [
    "df = pd.read_csv(\"dataset3.csv\", delimiter=',')\n",
    "df = df.values\n",
    "l = []\n",
    "for e in df:\n",
    "    if(e[2] == \"noise\"):\n",
    "        l.append(7)\n",
    "        continue\n",
    "    l.append(int(e[2]))\n",
    "l = np.array(l)\n",
    "k = max(l)\n",
    "k_dic[\"3\"] = k+1\n",
    "df1 = []\n",
    "for j in range(k+1):\n",
    "    df1.append([])\n",
    "for i in range(len(df)):\n",
    "    df1[l[i]].append(df[i][:2])\n",
    "for j in range(k+1):\n",
    "    df1[j] = np.array(df1[j])\n",
    "df1 = np.array(df1)\n",
    "for i in range(k+1):\n",
    "    plt.scatter(df1[i][:, 0],df1[i][:, 1], label = \"Class \" + str(i))\n",
    "plt.legend(loc=\"upper left\")\n",
    "plt.savefig(\"original-3.png\")\n",
    "plt.close()"
   ]
  },
  {
   "cell_type": "markdown",
   "metadata": {},
   "source": [
    "<h2>For datasets 2,4,5,6</h2>"
   ]
  },
  {
   "cell_type": "code",
   "execution_count": 3,
   "metadata": {},
   "outputs": [
    {
     "ename": "NameError",
     "evalue": "name 'pd' is not defined",
     "output_type": "error",
     "traceback": [
      "\u001b[1;31m---------------------------------------------------------------------------\u001b[0m",
      "\u001b[1;31mNameError\u001b[0m                                 Traceback (most recent call last)",
      "\u001b[1;32m~\\AppData\\Local\\Temp/ipykernel_31248/3581998955.py\u001b[0m in \u001b[0;36m<module>\u001b[1;34m\u001b[0m\n\u001b[0;32m      1\u001b[0m \u001b[1;32mfor\u001b[0m \u001b[0mn\u001b[0m \u001b[1;32min\u001b[0m \u001b[1;33m[\u001b[0m\u001b[1;34m\"2\"\u001b[0m\u001b[1;33m,\u001b[0m\u001b[1;34m\"4\"\u001b[0m\u001b[1;33m,\u001b[0m\u001b[1;34m\"5\"\u001b[0m\u001b[1;33m,\u001b[0m\u001b[1;34m\"6\"\u001b[0m\u001b[1;33m]\u001b[0m\u001b[1;33m:\u001b[0m\u001b[1;33m\u001b[0m\u001b[1;33m\u001b[0m\u001b[0m\n\u001b[1;32m----> 2\u001b[1;33m     \u001b[0mdf\u001b[0m \u001b[1;33m=\u001b[0m \u001b[0mpd\u001b[0m\u001b[1;33m.\u001b[0m\u001b[0mread_csv\u001b[0m\u001b[1;33m(\u001b[0m\u001b[1;34m\"dataset\"\u001b[0m \u001b[1;33m+\u001b[0m\u001b[0mn\u001b[0m \u001b[1;33m+\u001b[0m\u001b[1;34m\".csv\"\u001b[0m\u001b[1;33m,\u001b[0m \u001b[0mdelimiter\u001b[0m\u001b[1;33m=\u001b[0m\u001b[1;34m','\u001b[0m\u001b[1;33m)\u001b[0m\u001b[1;33m\u001b[0m\u001b[1;33m\u001b[0m\u001b[0m\n\u001b[0m\u001b[0;32m      3\u001b[0m     \u001b[0mdf\u001b[0m \u001b[1;33m=\u001b[0m \u001b[0mdf\u001b[0m\u001b[1;33m.\u001b[0m\u001b[0mvalues\u001b[0m\u001b[1;33m\u001b[0m\u001b[1;33m\u001b[0m\u001b[0m\n\u001b[0;32m      4\u001b[0m     \u001b[0ml\u001b[0m \u001b[1;33m=\u001b[0m \u001b[1;33m[\u001b[0m\u001b[1;33m]\u001b[0m\u001b[1;33m\u001b[0m\u001b[1;33m\u001b[0m\u001b[0m\n\u001b[0;32m      5\u001b[0m     \u001b[1;32mfor\u001b[0m \u001b[0me\u001b[0m \u001b[1;32min\u001b[0m \u001b[0mdf\u001b[0m\u001b[1;33m:\u001b[0m\u001b[1;33m\u001b[0m\u001b[1;33m\u001b[0m\u001b[0m\n",
      "\u001b[1;31mNameError\u001b[0m: name 'pd' is not defined"
     ]
    }
   ],
   "source": [
    "for n in [\"2\",\"4\",\"5\",\"6\"]:\n",
    "    df = pd.read_csv(\"dataset\" +n +\".csv\", delimiter=',')\n",
    "    df = df.values\n",
    "    l = []\n",
    "    for e in df:\n",
    "        l.append(int(e[2]))\n",
    "    l = np.array(l)\n",
    "    k = max(l)\n",
    "    k_dic[n] = k+1\n",
    "    df1 = []\n",
    "    for j in range(k+1):\n",
    "        df1.append([])\n",
    "    for i in range(len(df)):\n",
    "        df1[l[i]].append(df[i][:2])\n",
    "    for j in range(k+1):\n",
    "        df1[j] = np.array(df1[j])\n",
    "    df1 = np.array(df1)\n",
    "    for i in range(k+1):\n",
    "        plt.scatter(df1[i][:, 0],df1[i][:, 1], label = \"Class \" + str(i))\n",
    "    plt.legend(loc=\"upper left\")\n",
    "    plt.savefig(\"original-\" + n + \".png\")\n",
    "    plt.close()\n"
   ]
  },
  {
   "cell_type": "markdown",
   "metadata": {},
   "source": [
    "<h2>K values for the datasets</h2>"
   ]
  },
  {
   "cell_type": "code",
   "execution_count": 4,
   "metadata": {},
   "outputs": [
    {
     "ename": "NameError",
     "evalue": "name 'k_dic' is not defined",
     "output_type": "error",
     "traceback": [
      "\u001b[1;31m---------------------------------------------------------------------------\u001b[0m",
      "\u001b[1;31mNameError\u001b[0m                                 Traceback (most recent call last)",
      "\u001b[1;32m~\\AppData\\Local\\Temp/ipykernel_31248/3473596271.py\u001b[0m in \u001b[0;36m<module>\u001b[1;34m\u001b[0m\n\u001b[1;32m----> 1\u001b[1;33m \u001b[0mprint\u001b[0m\u001b[1;33m(\u001b[0m\u001b[0mk_dic\u001b[0m\u001b[1;33m)\u001b[0m\u001b[1;33m\u001b[0m\u001b[1;33m\u001b[0m\u001b[0m\n\u001b[0m",
      "\u001b[1;31mNameError\u001b[0m: name 'k_dic' is not defined"
     ]
    }
   ],
   "source": [
    "print(k_dic)"
   ]
  },
  {
   "cell_type": "markdown",
   "metadata": {},
   "source": [
    "<h2>K-means Function</h2>"
   ]
  },
  {
   "cell_type": "code",
   "execution_count": 148,
   "metadata": {},
   "outputs": [],
   "source": [
    "def k_means(k, data1, noIter=1000):\n",
    "    data = data1.values\n",
    "    # print(data)\n",
    "    n = len(data)\n",
    "    index = np.random.randint(0, n, size= (k,1))\n",
    "    centroids = []\n",
    "    \n",
    "    for x in index:\n",
    "        centroids.extend(data[x][:])\n",
    "    \n",
    "    centroids = np.array(centroids)\n",
    "    \n",
    "#   Instead of looping through all points and finding the distance from each centroid we can do this    \n",
    "    distances = cdist(data, centroids ,'euclidean')\n",
    "    \n",
    "#   Using the distance to find the closest centroid    \n",
    "    points_ = [] \n",
    "    for distance in distances:\n",
    "        temp = min(distance)\n",
    "        res = [i for i, j in enumerate(distance) if j == temp]\n",
    "        points_.append(res[0])\n",
    "    \n",
    "    points = np.array(points_)\n",
    "#     a shorter way of find the minimum distance from each centroid \n",
    "#     points = np.array([np.argmin(i) for i in distances])\n",
    "\n",
    "    for _ in range(noIter):\n",
    "        centroids = []\n",
    "        \n",
    "        for index in range(k):\n",
    "            # data[points == index] gives us all the points that are closest to the centroid (labelled as index)\n",
    "            # .mean() is used to find the mean of the points, axis=0 means along the column, i.e., the points get \n",
    "            # added\n",
    "            # print(data[points == index])\n",
    "            temp_cent = data[points==index].mean(axis=0) \n",
    "            centroids.append(temp_cent)\n",
    "            \n",
    "        centroids = np.array(centroids)\n",
    "        distances = cdist(data, centroids ,'euclidean')\n",
    "\n",
    "        \n",
    "        points_=[]\n",
    "        for distance in distances:\n",
    "            temp = min(distance)\n",
    "            res = [i for i, j in enumerate(distance) if j == temp]\n",
    "            points_.append(res[0])\n",
    "        points = np.array(points_) \n",
    "    return points, centroids"
   ]
  },
  {
   "cell_type": "markdown",
   "metadata": {},
   "source": [
    "<h2>Clustering using Kmeans</h2>"
   ]
  },
  {
   "cell_type": "code",
   "execution_count": 149,
   "metadata": {},
   "outputs": [
    {
     "name": "stderr",
     "output_type": "stream",
     "text": [
      "C:\\Users\\SUMANC~1\\AppData\\Local\\Temp/ipykernel_10204/468511580.py:14: VisibleDeprecationWarning: Creating an ndarray from ragged nested sequences (which is a list-or-tuple of lists-or-tuples-or ndarrays with different lengths or shapes) is deprecated. If you meant to do this, you must specify 'dtype=object' when creating the ndarray.\n",
      "  df1 = np.array(df1)\n"
     ]
    }
   ],
   "source": [
    "for n in [\"1\", \"2\",\"3\",\"4\",\"5\",\"6\"]:\n",
    "    data = pd.read_csv(\"dataset\" +n +\".csv\", delimiter=',')\n",
    "    data = data[['x', 'y']]\n",
    "    k = k_dic[n]\n",
    "    points, centroids = k_means(k, data)\n",
    "    data = data.values\n",
    "    df1 = []\n",
    "    for j in range(k):\n",
    "        df1.append([])\n",
    "    for i in range(len(data)):\n",
    "        df1[points[i]].append(data[i][:2])\n",
    "    for j in range(k):\n",
    "        df1[j] = np.array(df1[j])\n",
    "    df1 = np.array(df1)\n",
    "    for i in range(k):\n",
    "        plt.scatter(df1[i][:, 0],df1[i][:, 1], label = \"Class \" + str(i))\n",
    "    plt.legend(loc=\"upper left\")\n",
    "    plt.savefig(\"kmeans-\" + n +\".png\")\n",
    "    plt.close()"
   ]
  }
 ],
 "metadata": {
  "interpreter": {
   "hash": "88279d2366fe020547cde40dd65aa0e3aa662a6ec1f3ca12d88834876c85e1a6"
  },
  "kernelspec": {
   "display_name": "BM_2857",
   "language": "python",
   "name": "bm_2857"
  },
  "language_info": {
   "codemirror_mode": {
    "name": "ipython",
    "version": 3
   },
   "file_extension": ".py",
   "mimetype": "text/x-python",
   "name": "python",
   "nbconvert_exporter": "python",
   "pygments_lexer": "ipython3",
   "version": "3.9.7"
  },
  "orig_nbformat": 4
 },
 "nbformat": 4,
 "nbformat_minor": 2
}
