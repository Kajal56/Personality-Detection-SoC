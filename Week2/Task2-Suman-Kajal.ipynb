{
 "cells": [
  {
   "cell_type": "markdown",
   "metadata": {},
   "source": [
    "<h2><b>Assignment 2"
   ]
  },
  {
   "cell_type": "markdown",
   "metadata": {},
   "source": [
    "<h3><b>Problem 1</b></h3>\n",
    "The values of theta_0, theta_1 are <b>-0.11611250742585548, 0.1147324914301189 </b> respectively.<br><br>\n",
    "The estimated straight line is <b>log(N) = -0.11611250742585548+ 0.1147324914301189*day</b><br><br>\n",
    "The total no. of cases on the 110th day is <b>269537</b>(approx)\n"
   ]
  },
  {
   "cell_type": "code",
   "execution_count": 117,
   "metadata": {},
   "outputs": [
    {
     "name": "stdout",
     "output_type": "stream",
     "text": [
      "theta_0 : -0.11611250742585548\n",
      "theta_1 : 0.1147324914301189\n",
      "Total cases on 110th day : 269537\n",
      "We are short of beds !\n"
     ]
    }
   ],
   "source": [
    "import numpy as np\n",
    "import pandas as pd\n",
    "import random\n",
    "import matplotlib.pyplot as plt\n",
    "df = pd.read_csv(\"task2.csv\", delimiter=',')\n",
    "theta_0 = 0 # random.random()\n",
    "theta_1 = 0 # random.random()\n",
    "alpha = 0.0001\n",
    "X = df['Day']\n",
    "Y = np.log(df['Total cases'])\n",
    "for i in range(5000):\n",
    "    temp1 = theta_0 - alpha*((theta_0 + theta_1*X - Y).sum())/df.shape[0]\n",
    "    theta_1 = theta_1 - alpha*(((theta_0 + theta_1*X - Y)*X).sum())/df.shape[0]\n",
    "    theta_0 = temp1\n",
    "print(\"theta_0 :\",theta_0)\n",
    "print(\"theta_1 :\",theta_1)\n",
    "h = np.e**(theta_0 + theta_1*X)\n",
    "day_110 = theta_0 + theta_1*110\n",
    "day_110 = (np.e**day_110).__floor__()\n",
    "print(\"Total cases on 110th day :\", day_110)\n",
    "if(day_110>100000):\n",
    "  print(\"We are short of beds !\")\n",
    "else :\n",
    "  print(\"Yeah ! we have enough beds\")"
   ]
  },
  {
   "cell_type": "markdown",
   "metadata": {},
   "source": [
    "<h3><b>Problem 2</b></h3>"
   ]
  },
  {
   "cell_type": "code",
   "execution_count": null,
   "metadata": {},
   "outputs": [],
   "source": [
    "df = pd.read_csv(\"task2.csv\", delimiter=',')\n",
    "theta_0 = 0 # random.random()\n",
    "theta_1 = 0 # random.random()\n",
    "alpha = 1\n",
    "X = df['Day']\n",
    "Y = np.log(df['Total cases'])\n",
    "for i in range(5000):\n",
    "    print(theta_0, theta_1, i)\n",
    "    temp1 = theta_0 - alpha*((theta_0 + theta_1*X - Y).sum())/df.shape[0]\n",
    "    theta_1 = theta_1 - alpha*(((theta_0 + theta_1*X - Y)*X).sum())/df.shape[0]\n",
    "    theta_0 = temp1\n",
    "print(\"theta_0 :\",theta_0)\n",
    "print(\"theta_1 :\",theta_1)\n",
    "day_110 = theta_0 + theta_1*110\n",
    "day_110 = (np.e**day_110).__floor__()\n",
    "print(\"Total cases on 110th day :\", day_110)\n",
    "if(day_110>100000):\n",
    "  print(\"We are short of beds !\")\n",
    "else :\n",
    "  print(\"Yeah ! we have enough beds\")"
   ]
  },
  {
   "cell_type": "markdown",
   "metadata": {},
   "source": [
    "<h3>Explanation for the output we are getting for alpha=1</h3>\n",
    "\n",
    "<p>As we know that alpha is learning rate and it decides/affects the size of the step we are going to take (ie. the change we are going to make in theta_i ) so alpha being more (like in this case) means that even when the slope (derivative of cost fucntion wrt theta_i) is less the step is gonna be relatively large , so while taking the step, it's actually overshooting the minima and it's diverging, that's the reason we aren't getting a finite value of the minima.</p>"
   ]
  },
  {
   "cell_type": "markdown",
   "metadata": {},
   "source": [
    "<h3><b>Problem 3</b></h3>\n",
    "<p>The Plot showing the given data points along with the fitted curve is shown below</p>"
   ]
  },
  {
   "cell_type": "code",
   "execution_count": 113,
   "metadata": {},
   "outputs": [
    {
     "data": {
      "image/png": "[encoded data removed]",
      "text/plain": [
       "<Figure size 432x288 with 1 Axes>"
      ]
     },
     "metadata": {
      "needs_background": "light"
     },
     "output_type": "display_data"
    }
   ],
   "source": [
    "# import matplotlib.pyplot as plt\n",
    "plt.scatter(X, np.e**Y)\n",
    "plt.plot(X, h, 'r')\n",
    "plt.xlabel(\"Day\")\n",
    "plt.ylabel(\"Total number of cases\")\n",
    "plt.legend([\"Data Given\",\"fitted curve\"])\n",
    "plt.title('Growth rate of virus')\n",
    "plt.savefig(\"task2.png\")\n",
    "plt.show()"
   ]
  }
 ],
 "metadata": {
  "interpreter": {
   "hash": "88279d2366fe020547cde40dd65aa0e3aa662a6ec1f3ca12d88834876c85e1a6"
  },
  "kernelspec": {
   "display_name": "Python 3.9.7 ('base')",
   "language": "python",
   "name": "python3"
  },
  "language_info": {
   "codemirror_mode": {
    "name": "ipython",
    "version": 3
   },
   "file_extension": ".py",
   "mimetype": "text/x-python",
   "name": "python",
   "nbconvert_exporter": "python",
   "pygments_lexer": "ipython3",
   "version": "3.9.7"
  },
  "orig_nbformat": 4
 },
 "nbformat": 4,
 "nbformat_minor": 2
}
